{
 "cells": [
  {
   "cell_type": "code",
   "execution_count": 47,
   "metadata": {},
   "outputs": [
    {
     "name": "stdout",
     "output_type": "stream",
     "text": [
      "POST Response Status: 201\n",
      "POST Response Content: {'message': 'User created successfully'}\n",
      "GET Response Status: 200\n",
      "GET Response Content: {'_id': '66a770146892a0e109377ced', 'email': 'hritijrana07@gmail.com', 'mobile_number': '9122346494', 'name': 'Hritij'}\n"
     ]
    }
   ],
   "source": [
    "import requests\n",
    "\n",
    "# Base URL of your Flask app\n",
    "base_url = 'http://127.0.0.1:5000'\n",
    "\n",
    "# Example GET request\n",
    "def test_get_request():\n",
    "    response = requests.get(f'{base_url}/api/users/hritijrana07@gmail.com')\n",
    "    print(f\"GET Response Status: {response.status_code}\")\n",
    "    print(f\"GET Response Content: {response.json()}\")\n",
    "\n",
    "# Example POST request\n",
    "def test_post_request():\n",
    "    data = {\n",
    "        'email': 'hritijrana07@gmail.com',\n",
    "        'name': 'Hritij',\n",
    "        'mobile_number': '9122346494'\n",
    "    }\n",
    "    response = requests.post(f'{base_url}/api/users', json=data)\n",
    "    print(f\"POST Response Status: {response.status_code}\")\n",
    "    print(f\"POST Response Content: {response.json()}\")\n",
    "\n",
    "# Run the tests\n",
    "\n",
    "if __name__ == '__main__':\n",
    "    test_post_request()\n",
    "    test_get_request()"
   ]
  },
  {
   "cell_type": "code",
   "execution_count": 48,
   "metadata": {},
   "outputs": [
    {
     "name": "stdout",
     "output_type": "stream",
     "text": [
      "{'message': 'Expense added successfully'}\n"
     ]
    }
   ],
   "source": [
    "\n",
    "\n",
    "# Define the expense data for equal split\n",
    "expense_data_equal = {\n",
    "    \"amount\": 4000,\n",
    "    \"payer\": \"Hritij\",\n",
    "    \"participants\": [\"Ayank\", \"raw\", \"ks\", \"jake\"],\n",
    "    \"split_type\": \"EQUAL\",\n",
    "    \n",
    "}\n",
    "\n",
    "# Send a POST request to add the expense\n",
    "response = requests.post('http://localhost:5000/api/expenses', json=expense_data_equal)\n",
    "\n",
    "# Print the response\n",
    "print(response.json())\n"
   ]
  },
  {
   "cell_type": "code",
   "execution_count": 49,
   "metadata": {},
   "outputs": [
    {
     "name": "stdout",
     "output_type": "stream",
     "text": [
      "{'_id': '66a7701a6892a0e109377cf0', 'amount': 4000, 'participants': ['Ayank', 'raw', 'ks', 'jake'], 'payer': 'Hritij', 'split_type': 'EQUAL', 'splits': []}\n"
     ]
    }
   ],
   "source": [
    "response = requests.get('http://localhost:5000/api/expenses/Hritij')\n",
    "\n",
    "# Print the response\n",
    "print(response.json())\n"
   ]
  },
  {
   "cell_type": "code",
   "execution_count": 51,
   "metadata": {},
   "outputs": [
    {
     "name": "stdout",
     "output_type": "stream",
     "text": [
      "{'Ayank': 1000, 'jake': 1000, 'ks': 1000, 'raw': 1000}\n"
     ]
    }
   ],
   "source": [
    "# Send a GET request to retrieve the balance sheet\n",
    "response = requests.get('http://localhost:5000/api/balance_sheet',params={'payer':'Hritij'})\n",
    "\n",
    "# Print the response\n",
    "print(response.json())\n"
   ]
  },
  {
   "cell_type": "code",
   "execution_count": 52,
   "metadata": {},
   "outputs": [],
   "source": [
    "# Send a GET request to retrieve the balance sheet\n",
    "response = requests.get('http://localhost:5000/api/balance_sheet_download')\n",
    "\n",
    "# Print the response\n",
    "with open('bb.csv', 'w') as f:\n",
    "    f.write(response.content.decode('utf-8'))\n",
    "\n"
   ]
  },
  {
   "cell_type": "markdown",
   "metadata": {},
   "source": [
    "exact\n"
   ]
  },
  {
   "cell_type": "code",
   "execution_count": 53,
   "metadata": {},
   "outputs": [
    {
     "name": "stdout",
     "output_type": "stream",
     "text": [
      "{'message': 'Expense added successfully'}\n"
     ]
    }
   ],
   "source": [
    "expense_data_equal = {\n",
    "    \"amount\": 4000,\n",
    "    \"payer\": \"Karans\",\n",
    "    \"participants\": [\"Arjun\", \"Binod\", \"Ayank\", \"Raw\"],\n",
    "    \"split_type\": \"EXACT\",\n",
    "    'splits':[2000,1000,1000,0]    \n",
    "}\n",
    "\n",
    "# Send a POST request to add the expense\n",
    "response = requests.post('http://localhost:5000/api/expenses', json=expense_data_equal)\n",
    "\n",
    "# Print the response\n",
    "print(response.json())"
   ]
  },
  {
   "cell_type": "code",
   "execution_count": 54,
   "metadata": {},
   "outputs": [
    {
     "name": "stdout",
     "output_type": "stream",
     "text": [
      "{'Arjun': 2000, 'Ayank': 1000, 'Binod': 1000, 'Raw': 0}\n"
     ]
    }
   ],
   "source": [
    "response = requests.get('http://localhost:5000/api/balance_sheet',params={'payer':'Karans'})\n",
    "\n",
    "# Print the response\n",
    "print(response.json())"
   ]
  }
 ],
 "metadata": {
  "kernelspec": {
   "display_name": "Python 3",
   "language": "python",
   "name": "python3"
  },
  "language_info": {
   "codemirror_mode": {
    "name": "ipython",
    "version": 3
   },
   "file_extension": ".py",
   "mimetype": "text/x-python",
   "name": "python",
   "nbconvert_exporter": "python",
   "pygments_lexer": "ipython3",
   "version": "3.11.3"
  }
 },
 "nbformat": 4,
 "nbformat_minor": 2
}
